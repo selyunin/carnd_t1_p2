{
 "cells": [
  {
   "cell_type": "markdown",
   "metadata": {},
   "source": [
    "# Self-Driving Car Engineer Nanodegree\n",
    "\n",
    "## Deep Learning\n",
    "\n",
    "## Project: Build a Traffic Sign Recognition Classifier\n",
    "\n",
    "In this notebook, a template is provided for you to implement your functionality in stages, which is required to successfully complete this project. If additional code is required that cannot be included in the notebook, be sure that the Python code is successfully imported and included in your submission if necessary. \n",
    "\n",
    "> **Note**: Once you have completed all of the code implementations, you need to finalize your work by exporting the iPython Notebook as an HTML document. Before exporting the notebook to html, all of the code cells need to have been run so that reviewers can see the final implementation and output. You can then export the notebook by using the menu above and navigating to  \\n\",\n",
    "    \"**File -> Download as -> HTML (.html)**. Include the finished document along with this notebook as your submission. \n",
    "\n",
    "In addition to implementing code, there is a writeup to complete. The writeup should be completed in a separate file, which can be either a markdown file or a pdf document. There is a [write up template](https://github.com/udacity/CarND-Traffic-Sign-Classifier-Project/blob/master/writeup_template.md) that can be used to guide the writing process. Completing the code template and writeup template will cover all of the [rubric points](https://review.udacity.com/#!/rubrics/481/view) for this project.\n",
    "\n",
    "The [rubric](https://review.udacity.com/#!/rubrics/481/view) contains \"Stand Out Suggestions\" for enhancing the project beyond the minimum requirements. The stand out suggestions are optional. If you decide to pursue the \"stand out suggestions\", you can include the code in this Ipython notebook and also discuss the results in the writeup file.\n",
    "\n",
    "\n",
    ">**Note:** Code and Markdown cells can be executed using the **Shift + Enter** keyboard shortcut. In addition, Markdown cells can be edited by typically double-clicking the cell to enter edit mode."
   ]
  },
  {
   "cell_type": "markdown",
   "metadata": {},
   "source": [
    "---\n",
    "## Step 0: Load The Data"
   ]
  },
  {
   "cell_type": "code",
   "execution_count": null,
   "metadata": {
    "collapsed": false
   },
   "outputs": [],
   "source": [
    "# Load pickled data\n",
    "import pickle\n",
    "import urllib.request\n",
    "import zipfile\n",
    "import os\n",
    "\n",
    "#Fill this in based on where you saved the training and testing data\n",
    "\n",
    "data_set_zip_url = \"https://d17h27t6h515a5.cloudfront.net/topher/2017/February/5898cd6f_traffic-signs-data/traffic-signs-data.zip\"\n",
    "file_name = './traffic-signs-data-new.zip'\n",
    "\n",
    "if not os.path.isfile(file_name):\n",
    "    print(\"Downloading dataset from the web...\")\n",
    "    # download the dataset from the Web\n",
    "    urllib.request.urlretrieve(data_set_zip_url, file_name)\n",
    "    print(\"Extracting the archive...\")\n",
    "    # extract pickle files from the zip archive\n",
    "    zip_ref = zipfile.ZipFile(file_name, 'r') \n",
    "    zip_ref.extractall('./')\n",
    "    zip_ref.close()\n",
    "\n",
    "#pickle files\n",
    "training_file = 'train.p'\n",
    "validation_file = 'valid.p'\n",
    "testing_file = 'test.p'\n",
    "\n",
    "with open(training_file, mode='rb') as f:\n",
    "    train = pickle.load(f)\n",
    "with open(validation_file, mode='rb') as f:\n",
    "    valid = pickle.load(f)\n",
    "with open(testing_file, mode='rb') as f:\n",
    "    test = pickle.load(f)\n",
    "\n",
    "#numpy arrays of training, validation and test sets\n",
    "X_train, y_train = train['features'], train['labels']\n",
    "X_valid, y_valid = valid['features'], valid['labels']\n",
    "X_test, y_test = test['features'], test['labels']"
   ]
  },
  {
   "cell_type": "markdown",
   "metadata": {},
   "source": [
    "---\n",
    "\n",
    "## Step 1: Dataset Summary & Exploration\n",
    "\n",
    "The pickled data is a dictionary with 4 key/value pairs:\n",
    "\n",
    "- `'features'` is a 4D array containing raw pixel data of the traffic sign images, (num examples, width, height, channels).\n",
    "- `'labels'` is a 1D array containing the label/class id of the traffic sign. The file `signnames.csv` contains id -> name mappings for each id.\n",
    "- `'sizes'` is a list containing tuples, (width, height) representing the original width and height the image.\n",
    "- `'coords'` is a list containing tuples, (x1, y1, x2, y2) representing coordinates of a bounding box around the sign in the image. **THESE COORDINATES ASSUME THE ORIGINAL IMAGE. THE PICKLED DATA CONTAINS RESIZED VERSIONS (32 by 32) OF THESE IMAGES**\n",
    "\n",
    "Complete the basic data summary below. Use python, numpy and/or pandas methods to calculate the data summary rather than hard coding the results. For example, the [pandas shape method](http://pandas.pydata.org/pandas-docs/stable/generated/pandas.DataFrame.shape.html) might be useful for calculating some of the summary results. "
   ]
  },
  {
   "cell_type": "markdown",
   "metadata": {},
   "source": [
    "### Provide a Basic Summary of the Data Set Using Python, Numpy and/or Pandas"
   ]
  },
  {
   "cell_type": "code",
   "execution_count": null,
   "metadata": {
    "collapsed": false
   },
   "outputs": [],
   "source": [
    "# Number of training examples\n",
    "n_train = X_train.shape[0] # 34799 \n",
    "\n",
    "# Number of validation examples\n",
    "n_validation = X_valid.shape[0] # 4410\n",
    "\n",
    "# Number of testing examples.\n",
    "n_test = X_test.shape[0] # 12630\n",
    "\n",
    "# The shape of an traffic sign image: all the images are pre-processed to be of an equal size\n",
    "image_shape = X_train.shape[1:] # 32x32x3 -- color image of 32x32 px\n",
    "\n",
    "# Unique classes/labels in the dataset.\n",
    "n_classes = len(set(y_train)) # 43\n",
    "\n",
    "print(\"Number of training examples =\", n_train)\n",
    "print(\"Number of testing examples =\", n_test)\n",
    "print(\"Image data shape =\", image_shape)\n",
    "print(\"Number of classes =\", n_classes)"
   ]
  },
  {
   "cell_type": "markdown",
   "metadata": {},
   "source": [
    "### Include an exploratory visualization of the dataset"
   ]
  },
  {
   "cell_type": "markdown",
   "metadata": {},
   "source": [
    "Visualize the German Traffic Signs Dataset using the pickled file(s). This is open ended, suggestions include: plotting traffic sign images, plotting the count of each sign, etc. \n",
    "\n",
    "The [Matplotlib](http://matplotlib.org/) [examples](http://matplotlib.org/examples/index.html) and [gallery](http://matplotlib.org/gallery.html) pages are a great resource for doing visualizations in Python.\n",
    "\n",
    "**NOTE:** It's recommended you start with something simple first. If you wish to do more, come back to it after you've completed the rest of the sections. It can be interesting to look at the distribution of classes in the training, validation and test set. Is the distribution the same? Are there more examples of some classes than others?"
   ]
  },
  {
   "cell_type": "code",
   "execution_count": null,
   "metadata": {
    "collapsed": false
   },
   "outputs": [],
   "source": [
    "import numpy as np\n",
    "import random\n",
    "#create a 1-D human interpretable array of tuples of image classes\n",
    "text_labels = np.recfromcsv('./signnames.csv', delimiter=',')\n",
    "_, text_labels = zip(*text_labels)\n",
    "#decode byte strings from labels\n",
    "text_labels = list(map(lambda x : x.decode(\"utf-8\"), text_labels))"
   ]
  },
  {
   "cell_type": "code",
   "execution_count": null,
   "metadata": {
    "collapsed": false,
    "scrolled": false
   },
   "outputs": [],
   "source": [
    "### Data exploration visualization code goes here.\n",
    "import matplotlib.pyplot as plt\n",
    "import math\n",
    "# Visualizations will be shown in the notebook.\n",
    "%matplotlib inline\n",
    "\n",
    "#print 1 random image of every class of traffic signs\n",
    "NUM_COLUMNS = 5\n",
    "NUM_ROWS = math.ceil(n_classes / NUM_COLUMNS)\n",
    "fig = plt.figure(figsize=(20,25))\n",
    "for label in range(n_classes):\n",
    "    idx = random.choice(list(np.where(y_train == label)[0]))\n",
    "    img = X_train[idx]\n",
    "    ax = fig.add_subplot(NUM_ROWS,NUM_COLUMNS,label+1)\n",
    "    ax.imshow(img, interpolation='none')\n",
    "    ax.set_title(text_labels[label],  fontsize=14)\n",
    "    ax.set_xticks([])\n",
    "    ax.set_yticks([])\n",
    "    ax.set_xlabel(\"img #{}\".format(idx))\n",
    "plt.tight_layout(w_pad=-0.5, h_pad=+1.0)\n",
    "plt.suptitle('A Random image for each traffic sign class', y=1.03, fontsize=30)\n",
    "plt.show()"
   ]
  },
  {
   "cell_type": "code",
   "execution_count": null,
   "metadata": {
    "collapsed": false
   },
   "outputs": [],
   "source": [
    "#randomly print # num_images of one random class\n",
    "random_class = random.choice(range(n_classes))\n",
    "num_images = 24\n",
    "NUM_COLUMNS = 6\n",
    "NUM_ROWS = math.ceil(num_images / NUM_COLUMNS)\n",
    "images = np.random.choice(list(np.where(y_train == random_class)[0]), num_images, replace=False)\n",
    "fig = plt.figure(figsize=(6,6))\n",
    "for idx, el in enumerate(images):\n",
    "    img = X_train[el]\n",
    "    ax = fig.add_subplot(NUM_ROWS,NUM_COLUMNS,idx+1)\n",
    "    ax.imshow(img, interpolation='none')\n",
    "    ax.set_xticks([])\n",
    "    ax.set_yticks([])\n",
    "plt.suptitle(\"Random images of \\\"{}\\\" traffic sign\".format(text_labels[random_class]), y=0.85)\n",
    "fig.tight_layout(w_pad=0.2, h_pad=-11.0)\n",
    "plt.show()"
   ]
  },
  {
   "cell_type": "code",
   "execution_count": null,
   "metadata": {
    "collapsed": false
   },
   "outputs": [],
   "source": [
    "#print histograms of image classes in the data set\n",
    "fig = plt.figure(figsize=(10,14))\n",
    "ax = fig.add_subplot(111)\n",
    "(n_train, bins_train, _) = plt.hist(y_train, 3*len(set(y_train)), histtype='bar', \n",
    "                                    align='mid', alpha=0.3, orientation='horizontal',\n",
    "                                    label='training')\n",
    "(n_test, bins_test, _) = plt.hist(y_test, 3*len(set(y_test)), histtype='bar', \n",
    "                                  align='mid', color='green', orientation='horizontal', alpha=0.5,\n",
    "                                  label='test')\n",
    "(n_valid, bins_valid, _) = plt.hist(y_valid, 3*len(set(y_valid)), histtype='bar', \n",
    "                                    align='mid',color='red', orientation='horizontal', alpha=0.7,\n",
    "                                   label='validation')\n",
    "plt.legend(bbox_to_anchor=(1.0,0.85))\n",
    "ax.set_yticks(list(range(n_classes)))\n",
    "ax.set_ylim([-1, n_classes])\n",
    "ax.set_yticklabels(text_labels)\n",
    "ax.set_xticks(list(range(0,2600,200)))\n",
    "plt.gca().invert_yaxis()\n",
    "ax.xaxis.tick_top()\n",
    "plt.show()"
   ]
  },
  {
   "cell_type": "markdown",
   "metadata": {},
   "source": [
    "Pre-processing of the data set. As some image classes are less represented then others (seen from the histogram above), we use algorithms for image processing from `skimage.exposure` and `skimage.transform` to augment image classes with filtered images. Namely, methods for histogram equalization, non-linear transforms and small rotation (7 degrees). "
   ]
  },
  {
   "cell_type": "code",
   "execution_count": null,
   "metadata": {
    "collapsed": true
   },
   "outputs": [],
   "source": [
    "#filter functions for data augmentation\n",
    "from functools import partial\n",
    "\n",
    "def filter_eqhist(img):\n",
    "    return skimage.exposure.equalize_hist(img)\n",
    "\n",
    "def filter_eqadapthist(img):\n",
    "    return skimage.exposure.equalize_adapthist(img, 17, 0.4)\n",
    "\n",
    "def filter_adjustlog(img):\n",
    "    return skimage.exposure.adjust_log(filter_eqadapthist(img), 0.8)\n",
    "\n",
    "def filter_adjustsigmoid(img):\n",
    "    return skimage.exposure.adjust_sigmoid(filter_eqadapthist(img), cutoff=0.4, gain=8)\n",
    "\n",
    "def filter_rotate(img, func, angle):\n",
    "    return skimage.transform.rotate(func(img), angle)\n",
    " \n",
    "#rotated images of the filter functions\n",
    "filter_eqadapthistright = partial(filter_rotate, func=filter_eqadapthist, angle=+7)\n",
    "filter_eqadapthistleft = partial(filter_rotate, func=filter_eqadapthist, angle=-7)\n",
    "filter_eqhistright = partial(filter_rotate, func=filter_eqadapthist, angle=+7)\n",
    "filter_eqhistleft = partial(filter_rotate, func=filter_eqadapthist, angle=-7)\n",
    "filter_adjustlogright = partial(filter_rotate, func=filter_adjustlog, angle=+7)\n",
    "filter_adjustlogleft = partial(filter_rotate, func=filter_adjustlog, angle=-7)\n",
    "filter_adjustsigmoidright = partial(filter_rotate, func=filter_adjustsigmoid, angle=+7)\n",
    "filter_adjustsigmoidleft = partial(filter_rotate, func=filter_adjustsigmoid, angle=-7)"
   ]
  },
  {
   "cell_type": "code",
   "execution_count": null,
   "metadata": {
    "collapsed": false,
    "scrolled": true
   },
   "outputs": [],
   "source": [
    "# Showcase of filter functions\n",
    "# Apply filters on a random image\n",
    "import skimage.exposure \n",
    "import skimage.transform\n",
    "fig = plt.figure(figsize=(16,3))\n",
    "\n",
    "NUM_IMG = 13\n",
    "img_idx = 1\n",
    "ax = fig.add_subplot(1,NUM_IMG,img_idx)\n",
    "pic_raw = random.choice(X_train)\n",
    "plt.imshow(pic_raw)\n",
    "ax.set_xticks([])\n",
    "ax.set_yticks([])\n",
    "ax.set_title('Original', fontsize=9)\n",
    "\n",
    "img_idx += 1\n",
    "ax = fig.add_subplot(1,NUM_IMG,img_idx)\n",
    "pic_eqadapthist = filter_eqadapthist(pic_raw)\n",
    "plt.imshow(pic_eqadapthist)\n",
    "ax.set_xticks([])\n",
    "ax.set_yticks([])\n",
    "ax.set_title(\"Filter {}\".format(img_idx-1), fontsize=9)\n",
    "\n",
    "img_idx += 1\n",
    "ax = fig.add_subplot(1,NUM_IMG,img_idx)\n",
    "pic_eqhist = filter_eqhist(pic_raw)\n",
    "plt.imshow(pic_eqhist)\n",
    "ax.set_xticks([])\n",
    "ax.set_yticks([])\n",
    "ax.set_title(\"Filter {}\".format(img_idx-1), fontsize=9)\n",
    "\n",
    "img_idx += 1\n",
    "ax = fig.add_subplot(1,NUM_IMG,img_idx)\n",
    "pic_log = filter_adjustlog(pic_raw)\n",
    "plt.imshow(pic_log)\n",
    "ax.set_xticks([])\n",
    "ax.set_yticks([])\n",
    "ax.set_title(\"Filter {}\".format(img_idx-1), fontsize=9)\n",
    "\n",
    "img_idx += 1\n",
    "ax = fig.add_subplot(1,NUM_IMG,img_idx)\n",
    "pic_sigmoid = filter_adjustsigmoid(pic_raw)\n",
    "plt.imshow(pic_sigmoid)\n",
    "ax.set_xticks([])\n",
    "ax.set_yticks([])\n",
    "ax.set_title(\"Filter {}\".format(img_idx-1), fontsize=9)\n",
    "\n",
    "img_idx += 1\n",
    "ax = fig.add_subplot(1,NUM_IMG,img_idx)\n",
    "pic_rotated = filter_eqadapthistright(pic_raw)\n",
    "plt.imshow(pic_rotated)\n",
    "ax.set_xticks([])\n",
    "ax.set_yticks([])\n",
    "ax.set_title(\"Rotate {}\".format(img_idx-1), fontsize=9)\n",
    "\n",
    "img_idx += 1\n",
    "ax = fig.add_subplot(1,NUM_IMG,img_idx)\n",
    "pic_rotated = filter_eqadapthistleft(pic_raw)\n",
    "plt.imshow(pic_rotated)\n",
    "ax.set_xticks([])\n",
    "ax.set_yticks([])\n",
    "ax.set_title(\"Rotate {}\".format(img_idx-1), fontsize=9)\n",
    "\n",
    "img_idx += 1\n",
    "ax = fig.add_subplot(1,NUM_IMG,img_idx)\n",
    "pic_rotated = filter_eqhistright(pic_raw)\n",
    "plt.imshow(pic_rotated)\n",
    "ax.set_xticks([])\n",
    "ax.set_yticks([])\n",
    "ax.set_title(\"Rotate {}\".format(img_idx-1), fontsize=9)\n",
    "\n",
    "img_idx += 1\n",
    "ax = fig.add_subplot(1,NUM_IMG,img_idx)\n",
    "pic_rotated = filter_eqhistleft(pic_raw)\n",
    "plt.imshow(pic_rotated)\n",
    "ax.set_xticks([])\n",
    "ax.set_yticks([])\n",
    "ax.set_title(\"Rotate {}\".format(img_idx-1), fontsize=9)\n",
    "\n",
    "img_idx += 1\n",
    "ax = fig.add_subplot(1,NUM_IMG,img_idx)\n",
    "pic_rotated = filter_adjustlogright(pic_raw)\n",
    "plt.imshow(pic_rotated)\n",
    "ax.set_xticks([])\n",
    "ax.set_yticks([])\n",
    "ax.set_title(\"Rotate {}\".format(img_idx-1), fontsize=9)\n",
    "\n",
    "img_idx += 1\n",
    "ax = fig.add_subplot(1,NUM_IMG,img_idx)\n",
    "pic_rotated = filter_adjustlogleft(pic_raw)\n",
    "plt.imshow(pic_rotated)\n",
    "ax.set_xticks([])\n",
    "ax.set_yticks([])\n",
    "ax.set_title(\"Rotate {}\".format(img_idx-1), fontsize=9)\n",
    "\n",
    "img_idx += 1\n",
    "ax = fig.add_subplot(1,NUM_IMG,img_idx)\n",
    "pic_rotated = filter_adjustsigmoidright(pic_raw)\n",
    "plt.imshow(pic_rotated)\n",
    "ax.set_xticks([])\n",
    "ax.set_yticks([])\n",
    "ax.set_title(\"Rotate {}\".format(img_idx-1), fontsize=9)\n",
    "\n",
    "img_idx += 1\n",
    "ax = fig.add_subplot(1,NUM_IMG,img_idx)\n",
    "pic_rotated = filter_adjustsigmoidleft(pic_raw)\n",
    "plt.imshow(pic_rotated)\n",
    "ax.set_xticks([])\n",
    "ax.set_yticks([])\n",
    "ax.set_title(\"Rotate {}\".format(img_idx-1), fontsize=9)\n",
    "plt.show()"
   ]
  },
  {
   "cell_type": "markdown",
   "metadata": {},
   "source": [
    "Exploring image underrepresented image classes"
   ]
  },
  {
   "cell_type": "code",
   "execution_count": null,
   "metadata": {
    "collapsed": false
   },
   "outputs": [],
   "source": [
    "#traffic sign classes in ascending order of image examples \n",
    "from collections import OrderedDict\n",
    "n_train_ = list(filter(lambda x : x > 0, n_train))\n",
    "n_train_dict = {idx: el for idx,el in enumerate(n_train_)}\n",
    "X_train_summary = OrderedDict(sorted(n_train_dict.items(), key=lambda t: t[1]))\n",
    "print(X_train_summary)"
   ]
  },
  {
   "cell_type": "markdown",
   "metadata": {},
   "source": [
    "A function that returns an image filter"
   ]
  },
  {
   "cell_type": "code",
   "execution_count": null,
   "metadata": {
    "collapsed": false
   },
   "outputs": [],
   "source": [
    "def create_filter(filter_num):\n",
    "    filters = [filter_eqhist,\n",
    "               filter_eqadapthist,\n",
    "               filter_adjustlog,\n",
    "               filter_adjustsigmoid,\n",
    "               filter_eqadapthistright,\n",
    "               filter_eqadapthistleft,\n",
    "               filter_eqhistright,\n",
    "               filter_eqhistleft,\n",
    "               filter_adjustlogright,\n",
    "               filter_adjustlogleft,\n",
    "               filter_adjustsigmoidright,\n",
    "               filter_adjustsigmoidleft]\n",
    "    return filters[filter_num]"
   ]
  },
  {
   "cell_type": "raw",
   "metadata": {},
   "source": [
    "threshold = 1700\n",
    "for img_class in image_classes:\n",
    "    if num_images(image_class) < threshold:\n",
    "        extended_image_class = []\n",
    "        extended_image_label = []\n",
    "        num_filter = 0\n",
    "        while len(extended_image_class + img_class) < threshold:\n",
    "            for image in image_class:\n",
    "                apply_filter = create_filter(num_filter)\n",
    "                extended_image_class = apply_filter(image)\n",
    "                extended_image_label.append(img.label)\n",
    "                num_filter += 1\n",
    "combine original and extended data sets\n",
    "store the augmented data set      "
   ]
  },
  {
   "cell_type": "code",
   "execution_count": null,
   "metadata": {
    "collapsed": false
   },
   "outputs": [],
   "source": [
    "from tqdm import tqdm\n",
    "\n",
    "def find_ids_of_img_class(dataset, img_class):\n",
    "    return list(np.where(dataset == img_class)[0])\n",
    "\n",
    "threshold = 1700\n",
    "X_augmented = []\n",
    "Y_augmented = []\n",
    "for class_id, num_examples in X_train_summary.items():\n",
    "    if num_examples < threshold:\n",
    "        print(\"Augmenting dataset for class '{}', of '{}' elements\".format(class_id, num_examples))\n",
    "        img_ids = find_ids_of_img_class(y_train, class_id)\n",
    "        num_filter = 0\n",
    "        X_augmented_partial = []\n",
    "        y_augmented_partial = []\n",
    "        examples_total = num_examples\n",
    "        while examples_total < threshold :\n",
    "            img_filter = create_filter(num_filter)\n",
    "            print(\"Applying '{}' for {} images of class {}\".format(str(img_filter), str(examples_total), class_id))\n",
    "            X_augmented_partial = list(map(lambda x: img_filter(x), tqdm(X_train[img_ids])))\n",
    "            Y_augmented_partial = [class_id] * len(X_augmented_partial)\n",
    "            examples_total += len(X_augmented_partial)\n",
    "            X_augmented += X_augmented_partial\n",
    "            Y_augmented += Y_augmented_partial\n",
    "            num_filter += 1\n",
    "        print(\"Augmented training set: {} images, {} labels\".format(len(X_augmented),len(Y_augmented)))\n",
    "\n",
    "X_augmented_np = np.array(X_augmented)\n",
    "Y_augmented_np = np.array(Y_augmented)\n"
   ]
  },
  {
   "cell_type": "code",
   "execution_count": null,
   "metadata": {
    "collapsed": false
   },
   "outputs": [],
   "source": [
    "#concatenate augmented and original dataset\n",
    "X_train_new = np.concatenate((X_train, X_augmented_np), axis=0)\n",
    "Y_train_new = np.concatenate((y_train, Y_augmented_np), axis=0)"
   ]
  },
  {
   "cell_type": "code",
   "execution_count": null,
   "metadata": {
    "collapsed": false
   },
   "outputs": [],
   "source": [
    "#print histograms of image classes in the data set\n",
    "fig = plt.figure(figsize=(10,14))\n",
    "ax = fig.add_subplot(111)\n",
    "(n_train, bins_train, _) = plt.hist(Y_train_new, 3*len(set(Y_train_new)), histtype='bar', \n",
    "                                    align='mid', alpha=0.3, orientation='horizontal',\n",
    "                                    label='training')\n",
    "(n_test, bins_test, _) = plt.hist(y_test, 3*len(set(y_test)), histtype='bar', \n",
    "                                  align='mid', color='green', orientation='horizontal', alpha=0.5,\n",
    "                                  label='test')\n",
    "(n_valid, bins_valid, _) = plt.hist(y_valid, 3*len(set(y_valid)), histtype='bar', \n",
    "                                    align='mid',color='red', orientation='horizontal', alpha=0.7,\n",
    "                                   label='validation')\n",
    "plt.legend(bbox_to_anchor=(1.0,0.85))\n",
    "ax.set_yticks(list(range(n_classes)))\n",
    "ax.set_ylim([-1, n_classes])\n",
    "ax.set_yticklabels(text_labels)\n",
    "ax.set_xticks(list(range(0,2600,200)))\n",
    "plt.gca().invert_yaxis()\n",
    "ax.xaxis.tick_top()\n",
    "plt.show()"
   ]
  },
  {
   "cell_type": "code",
   "execution_count": null,
   "metadata": {
    "collapsed": false
   },
   "outputs": [],
   "source": [
    "myfilter = create_filter(8)\n",
    "print(myfilter)\n",
    "print(filter_eqhist)\n",
    "fig = plt.figure(figsize=(3,3))\n",
    "\n",
    "ax = fig.add_subplot(1,1,1)\n",
    "pic_raw = random.choice(X_augmented_np)\n",
    "plt.imshow(myfilter(pic_raw))\n",
    "ax.set_xticks([])\n",
    "ax.set_yticks([])\n",
    "plt.show()"
   ]
  },
  {
   "cell_type": "code",
   "execution_count": null,
   "metadata": {
    "collapsed": false
   },
   "outputs": [],
   "source": [
    "#save augmented training set\n",
    "#pickle files\n",
    "# new_training_file = 'train_new.p'\n",
    "\n",
    "# with open(new_training_file, mode='wb') as f:\n",
    "#     pickle.dump({\"X_train_new\" : X_train_new, \"Y_train_new\" : Y_train_new}, f, pickle.HIGHEST_PROTOCOL)\n"
   ]
  },
  {
   "cell_type": "markdown",
   "metadata": {},
   "source": [
    "----\n",
    "\n",
    "## Step 2: Design and Test a Model Architecture\n",
    "\n",
    "Design and implement a deep learning model that learns to recognize traffic signs. Train and test your model on the [German Traffic Sign Dataset](http://benchmark.ini.rub.de/?section=gtsrb&subsection=dataset).\n",
    "\n",
    "The LeNet-5 implementation shown in the [classroom](https://classroom.udacity.com/nanodegrees/nd013/parts/fbf77062-5703-404e-b60c-95b78b2f3f9e/modules/6df7ae49-c61c-4bb2-a23e-6527e69209ec/lessons/601ae704-1035-4287-8b11-e2c2716217ad/concepts/d4aca031-508f-4e0b-b493-e7b706120f81) at the end of the CNN lesson is a solid starting point. You'll have to change the number of classes and possibly the preprocessing, but aside from that it's plug and play! \n",
    "\n",
    "With the LeNet-5 solution from the lecture, you should expect a validation set accuracy of about 0.89. To meet specifications, the validation set accuracy will need to be at least 0.93. It is possible to get an even higher accuracy, but 0.93 is the minimum for a successful project submission. \n",
    "\n",
    "There are various aspects to consider when thinking about this problem:\n",
    "\n",
    "- Neural network architecture (is the network over or underfitting?)\n",
    "- Play around preprocessing techniques (normalization, rgb to grayscale, etc)\n",
    "- Number of examples per label (some have more than others).\n",
    "- Generate fake data.\n",
    "\n",
    "Here is an example of a [published baseline model on this problem](http://yann.lecun.com/exdb/publis/pdf/sermanet-ijcnn-11.pdf). It's not required to be familiar with the approach used in the paper but, it's good practice to try to read papers like these."
   ]
  },
  {
   "cell_type": "code",
   "execution_count": null,
   "metadata": {
    "collapsed": false,
    "scrolled": true
   },
   "outputs": [],
   "source": []
  },
  {
   "cell_type": "markdown",
   "metadata": {},
   "source": [
    "### Pre-process the Data Set (normalization, grayscale, etc.)"
   ]
  },
  {
   "cell_type": "markdown",
   "metadata": {},
   "source": [
    "Minimally, the image data should be normalized so that the data has mean zero and equal variance. For image data, `(pixel - 128)/ 128` is a quick way to approximately normalize the data and can be used in this project. \n",
    "\n",
    "Other pre-processing steps are optional. You can try different techniques to see if it improves performance. \n",
    "\n",
    "Use the code cell (or multiple code cells, if necessary) to implement the first step of your project."
   ]
  },
  {
   "cell_type": "code",
   "execution_count": null,
   "metadata": {
    "collapsed": true
   },
   "outputs": [],
   "source": [
    "from sklearn.utils import shuffle\n",
    "\n",
    "X_train_shffled, y_train_shuffled = shuffle(X_train_new, Y_train_new)"
   ]
  },
  {
   "cell_type": "code",
   "execution_count": null,
   "metadata": {
    "collapsed": true
   },
   "outputs": [],
   "source": [
    "### Preprocess the data here. It is required to normalize the data. Other preprocessing steps could include \n",
    "### converting to grayscale, etc.\n",
    "### Feel free to use as many code cells as needed.\n",
    "def normalize(X):\n",
    "    return (X - 128) / 128."
   ]
  },
  {
   "cell_type": "markdown",
   "metadata": {},
   "source": [
    "### Model Architecture"
   ]
  },
  {
   "cell_type": "code",
   "execution_count": null,
   "metadata": {
    "collapsed": true
   },
   "outputs": [],
   "source": [
    "import tensorflow as tf"
   ]
  },
  {
   "cell_type": "code",
   "execution_count": null,
   "metadata": {
    "collapsed": true
   },
   "outputs": [],
   "source": [
    "### Define your architecture here.\n",
    "### Feel free to use as many code cells as needed.\n",
    "from tensorflow.contrib.layers import flatten\n",
    "\n",
    "def LeNet_like_gtsrb(x):    \n",
    "    # Arguments used for tf.truncated_normal, randomly defines variables for the weights and biases for each layer\n",
    "    mu = 0\n",
    "    sigma = 0.1    \n",
    "    \n",
    "    # Layer 1: Convolutional. Input = 32x32x3. Output = 28x28x6.\n",
    "    conv_l1_in_depth = 3\n",
    "    conv_l1_out_depth = 6\n",
    "    conv_l1_padding = 'VALID'\n",
    "    conv_l1_filter_size = 5\n",
    "    conv_l1_W_size = [conv_l1_filter_size,\n",
    "                      conv_l1_filter_size,\n",
    "                      conv_l1_in_depth,\n",
    "                      conv_l1_out_depth]\n",
    "    conv_l1_B_size = [conv_l1_out_depth]\n",
    "    conv_l1_W = tf.Variable(tf.truncated_normal(conv_l1_W_size), mu=mu, sigma=sigma)\n",
    "    conv_l1_B = tf.Variable(tf.zeros(conv_l1_B_size))\n",
    "    conv_l1_stride = [1,1,1,1] \n",
    "    conv_l1 = tf.nn.conv2d(x, conv_l1_W, conv_l1_stride, conv_l1_padding) + conv_l1_B\n",
    "    # TODO: Activation.\n",
    "    conv_l1_relu = tf.nn.relu(conv_l1)\n",
    "    \n",
    "    # TODO: Pooling. Input = 28x28x6. Output = 14x14x6.\n",
    "    conv_l1_pooling_kernel = [1,2,2,1]\n",
    "    conv_l1_pooling_stride = [1,2,2,1]\n",
    "    conv_l1_pooling_padding = 'VALID'\n",
    "    conv_l1_pooling = tf.nn.max_pool(conv_l1_relu, \n",
    "                                     conv_l1_pooling_kernel, \n",
    "                                     conv_l1_pooling_stride,\n",
    "                                     conv_l1_pooling_padding)\n",
    "\n",
    "    # TODO: Layer 2: Convolutional. Output = 10x10x16.\n",
    "    conv_l2_in_depth = 6\n",
    "    conv_l2_out_depth = 16\n",
    "    conv_l2_padding = 'VALID'\n",
    "    conv_l2_filter_size = 5\n",
    "    conv_l2_W_size = [conv_l2_filter_size,\n",
    "                      conv_l2_filter_size,\n",
    "                      conv_l2_in_depth,\n",
    "                      conv_l2_out_depth]\n",
    "    conv_l2_B_size = [conv_l2_out_depth]\n",
    "    conv_l2_W = tf.Variable(tf.truncated_normal(conv_l2_W_size))\n",
    "    conv_l2_B = tf.Variable(tf.zeros(conv_l2_B_size))\n",
    "    conv_l2_stride = [1,1,1,1] \n",
    "    conv_l2 = tf.nn.conv2d(conv_l1_pooling, conv_l2_W, conv_l2_stride, conv_l2_padding) + conv_l2_B\n",
    "    \n",
    "    # TODO: Activation.\n",
    "    conv_l2_relu = tf.nn.relu(conv_l2)\n",
    "    \n",
    "    # TODO: Pooling. Input = 10x10x16. Output = 5x5x16.\n",
    "    conv_l2_pooling_kernel = [1,2,2,1]\n",
    "    conv_l2_pooling_stride = [1,2,2,1]\n",
    "    conv_l2_pooling_padding = 'VALID'\n",
    "    conv_l2_pooling = tf.nn.max_pool(conv_l2_relu, \n",
    "                                     conv_l2_pooling_kernel, \n",
    "                                     conv_l2_pooling_stride,\n",
    "                                     conv_l2_pooling_padding)\n",
    "    \n",
    "    # TODO: Flatten. Input = 5x5x16. Output = 400.\n",
    "    fc_flat = flatten(conv_l2_pooling)\n",
    "    \n",
    "    # TODO: Layer 3: Fully Connected. Input = 400. Output = 120.\n",
    "    fc1_W_in_dim = 400\n",
    "    fc1_W_out_dim = 120\n",
    "    fc1_W = tf.Variable(tf.truncated_normal([fc1_W_in_dim, fc1_W_out_dim]))\n",
    "    fc1_B = tf.Variable(tf.truncated_normal([fc1_W_out_dim]))\n",
    "    fc1_nn = tf.matmul(fc_flat, fc1_W) + fc1_B\n",
    "    # TODO: Activation.\n",
    "    fc1_relu = tf.nn.relu(fc1_nn)\n",
    "    # TODO: Layer 4: Fully Connected. Input = 120. Output = 84.\n",
    "    fc2_W_in_dim = 120\n",
    "    fc2_W_out_dim = 84\n",
    "    fc2_W = tf.Variable(tf.truncated_normal([fc2_W_in_dim, fc2_W_out_dim]))\n",
    "    fc2_B = tf.Variable(tf.truncated_normal([fc2_W_out_dim]))\n",
    "    fc2_nn = tf.matmul(fc1_relu, fc2_W) + fc2_B\n",
    "    # TODO: Activation.\n",
    "    fc2_relu = tf.nn.relu(fc2_nn)\n",
    "    # TODO: Layer 5: Fully Connected. Input = 84. Output = 43.\n",
    "    fc3_W_in_dim = 84\n",
    "    fc3_W_out_dim = 43\n",
    "    fc3_W = tf.Variable(tf.truncated_normal([fc3_W_in_dim, fc3_W_out_dim]))\n",
    "    fc3_B = tf.Variable(tf.truncated_normal([fc3_W_out_dim]))\n",
    "    logits = tf.matmul(fc2_relu, fc3_W) + fc3_B\n",
    "    return logits"
   ]
  },
  {
   "cell_type": "markdown",
   "metadata": {},
   "source": [
    "#### Features and Labels\n",
    "x is a placeholder for a batch of input images. \n",
    "y is a placeholder for a batch of output labels."
   ]
  },
  {
   "cell_type": "code",
   "execution_count": null,
   "metadata": {
    "collapsed": false
   },
   "outputs": [],
   "source": [
    "x = tf.placeholder(tf.float32, (None, 32, 32, 3))\n",
    "y = tf.placeholder(tf.int32, (None))\n",
    "one_hot_y = tf.one_hot(y, n_classes)"
   ]
  },
  {
   "cell_type": "markdown",
   "metadata": {},
   "source": [
    "### Train, Validate and Test the Model"
   ]
  },
  {
   "cell_type": "markdown",
   "metadata": {},
   "source": [
    "A validation set can be used to assess how well the model is performing. A low accuracy on the training and validation\n",
    "sets imply underfitting. A high accuracy on the training set but low accuracy on the validation set implies overfitting."
   ]
  },
  {
   "cell_type": "code",
   "execution_count": null,
   "metadata": {
    "collapsed": true
   },
   "outputs": [],
   "source": [
    "### Train your model here.\n",
    "### Calculate and report the accuracy on the training and validation set.\n",
    "### Once a final model architecture is selected, \n",
    "### the accuracy on the test set should be calculated and reported as well.\n",
    "### Feel free to use as many code cells as needed.\n",
    "rate = 0.001\n",
    "\n",
    "logits = LeNet_like_gtsrb(x)\n",
    "cross_entropy = tf.nn.softmax_cross_entropy_with_logits(labels=one_hot_y, logits=logits)\n",
    "loss_operation = tf.reduce_mean(cross_entropy)\n",
    "optimizer = tf.train.AdamOptimizer(learning_rate = rate)\n",
    "training_operation = optimizer.minimize(loss_operation)"
   ]
  },
  {
   "cell_type": "code",
   "execution_count": null,
   "metadata": {
    "collapsed": true
   },
   "outputs": [],
   "source": []
  },
  {
   "cell_type": "code",
   "execution_count": null,
   "metadata": {
    "collapsed": true
   },
   "outputs": [],
   "source": [
    "correct_prediction = tf.equal(tf.argmax(logits, 1), tf.argmax(one_hot_y, 1))\n",
    "accuracy_operation = tf.reduce_mean(tf.cast(correct_prediction, tf.float32))\n",
    "saver = tf.train.Saver()\n",
    "\n",
    "def evaluate(X_data, y_data):\n",
    "    num_examples = len(X_data)\n",
    "    total_accuracy = 0\n",
    "    sess = tf.get_default_session()\n",
    "    for offset in range(0, num_examples, BATCH_SIZE):\n",
    "        batch_x, batch_y = X_data[offset:offset+BATCH_SIZE], y_data[offset:offset+BATCH_SIZE]\n",
    "        accuracy = sess.run(accuracy_operation, feed_dict={x: batch_x, y: batch_y})\n",
    "        total_accuracy += (accuracy * len(batch_x))\n",
    "    return total_accuracy / num_examples"
   ]
  },
  {
   "cell_type": "code",
   "execution_count": null,
   "metadata": {
    "collapsed": true
   },
   "outputs": [],
   "source": []
  },
  {
   "cell_type": "code",
   "execution_count": null,
   "metadata": {
    "collapsed": true
   },
   "outputs": [],
   "source": [
    "with tf.Session() as sess:\n",
    "    sess.run(tf.global_variables_initializer())\n",
    "    num_examples = len(X_train)\n",
    "    \n",
    "    print(\"Training...\")\n",
    "    print()\n",
    "    for i in range(EPOCHS):\n",
    "        X_train, y_train = shuffle(X_train, y_train)\n",
    "        for offset in range(0, num_examples, BATCH_SIZE):\n",
    "            end = offset + BATCH_SIZE\n",
    "            batch_x, batch_y = X_train[offset:end], y_train[offset:end]\n",
    "            sess.run(training_operation, feed_dict={x: batch_x, y: batch_y})\n",
    "            \n",
    "        validation_accuracy = evaluate(X_validation, y_validation)\n",
    "        print(\"EPOCH {} ...\".format(i+1))\n",
    "        print(\"Validation Accuracy = {:.3f}\".format(validation_accuracy))\n",
    "        print()\n",
    "        \n",
    "    saver.save(sess, './lenet')\n",
    "    print(\"Model saved\")"
   ]
  },
  {
   "cell_type": "code",
   "execution_count": null,
   "metadata": {
    "collapsed": true
   },
   "outputs": [],
   "source": []
  },
  {
   "cell_type": "code",
   "execution_count": null,
   "metadata": {
    "collapsed": true
   },
   "outputs": [],
   "source": [
    "with tf.Session() as sess:\n",
    "    saver.restore(sess, tf.train.latest_checkpoint('.'))\n",
    "\n",
    "    test_accuracy = evaluate(X_test, y_test)\n",
    "    print(\"Test Accuracy = {:.3f}\".format(test_accuracy))"
   ]
  },
  {
   "cell_type": "markdown",
   "metadata": {},
   "source": [
    "---\n",
    "\n",
    "## Step 3: Test a Model on New Images\n",
    "\n",
    "To give yourself more insight into how your model is working, download at least five pictures of German traffic signs from the web and use your model to predict the traffic sign type.\n",
    "\n",
    "You may find `signnames.csv` useful as it contains mappings from the class id (integer) to the actual sign name."
   ]
  },
  {
   "cell_type": "markdown",
   "metadata": {},
   "source": [
    "### Load and Output the Images"
   ]
  },
  {
   "cell_type": "code",
   "execution_count": null,
   "metadata": {
    "collapsed": true
   },
   "outputs": [],
   "source": [
    "### Load the images and plot them here.\n",
    "### Feel free to use as many code cells as needed."
   ]
  },
  {
   "cell_type": "markdown",
   "metadata": {},
   "source": [
    "### Predict the Sign Type for Each Image"
   ]
  },
  {
   "cell_type": "code",
   "execution_count": null,
   "metadata": {
    "collapsed": true
   },
   "outputs": [],
   "source": [
    "### Run the predictions here and use the model to output the prediction for each image.\n",
    "### Make sure to pre-process the images with the same pre-processing pipeline used earlier.\n",
    "### Feel free to use as many code cells as needed."
   ]
  },
  {
   "cell_type": "markdown",
   "metadata": {},
   "source": [
    "### Analyze Performance"
   ]
  },
  {
   "cell_type": "code",
   "execution_count": null,
   "metadata": {
    "collapsed": true
   },
   "outputs": [],
   "source": [
    "### Calculate the accuracy for these 5 new images. \n",
    "### For example, if the model predicted 1 out of 5 signs correctly, it's 20% accurate on these new images."
   ]
  },
  {
   "cell_type": "markdown",
   "metadata": {},
   "source": [
    "### Output Top 5 Softmax Probabilities For Each Image Found on the Web"
   ]
  },
  {
   "cell_type": "markdown",
   "metadata": {},
   "source": [
    "For each of the new images, print out the model's softmax probabilities to show the **certainty** of the model's predictions (limit the output to the top 5 probabilities for each image). [`tf.nn.top_k`](https://www.tensorflow.org/versions/r0.12/api_docs/python/nn.html#top_k) could prove helpful here. \n",
    "\n",
    "The example below demonstrates how tf.nn.top_k can be used to find the top k predictions for each image.\n",
    "\n",
    "`tf.nn.top_k` will return the values and indices (class ids) of the top k predictions. So if k=3, for each sign, it'll return the 3 largest probabilities (out of a possible 43) and the correspoding class ids.\n",
    "\n",
    "Take this numpy array as an example. The values in the array represent predictions. The array contains softmax probabilities for five candidate images with six possible classes. `tf.nn.top_k` is used to choose the three classes with the highest probability:\n",
    "\n",
    "```\n",
    "# (5, 6) array\n",
    "a = np.array([[ 0.24879643,  0.07032244,  0.12641572,  0.34763842,  0.07893497,\n",
    "         0.12789202],\n",
    "       [ 0.28086119,  0.27569815,  0.08594638,  0.0178669 ,  0.18063401,\n",
    "         0.15899337],\n",
    "       [ 0.26076848,  0.23664738,  0.08020603,  0.07001922,  0.1134371 ,\n",
    "         0.23892179],\n",
    "       [ 0.11943333,  0.29198961,  0.02605103,  0.26234032,  0.1351348 ,\n",
    "         0.16505091],\n",
    "       [ 0.09561176,  0.34396535,  0.0643941 ,  0.16240774,  0.24206137,\n",
    "         0.09155967]])\n",
    "```\n",
    "\n",
    "Running it through `sess.run(tf.nn.top_k(tf.constant(a), k=3))` produces:\n",
    "\n",
    "```\n",
    "TopKV2(values=array([[ 0.34763842,  0.24879643,  0.12789202],\n",
    "       [ 0.28086119,  0.27569815,  0.18063401],\n",
    "       [ 0.26076848,  0.23892179,  0.23664738],\n",
    "       [ 0.29198961,  0.26234032,  0.16505091],\n",
    "       [ 0.34396535,  0.24206137,  0.16240774]]), indices=array([[3, 0, 5],\n",
    "       [0, 1, 4],\n",
    "       [0, 5, 1],\n",
    "       [1, 3, 5],\n",
    "       [1, 4, 3]], dtype=int32))\n",
    "```\n",
    "\n",
    "Looking just at the first row we get `[ 0.34763842,  0.24879643,  0.12789202]`, you can confirm these are the 3 largest probabilities in `a`. You'll also notice `[3, 0, 5]` are the corresponding indices."
   ]
  },
  {
   "cell_type": "code",
   "execution_count": null,
   "metadata": {
    "collapsed": true
   },
   "outputs": [],
   "source": [
    "### Print out the top five softmax probabilities for the predictions on the German traffic sign images found on the web. \n",
    "### Feel free to use as many code cells as needed."
   ]
  },
  {
   "cell_type": "markdown",
   "metadata": {},
   "source": [
    "### Project Writeup\n",
    "\n",
    "Once you have completed the code implementation, document your results in a project writeup using this [template](https://github.com/udacity/CarND-Traffic-Sign-Classifier-Project/blob/master/writeup_template.md) as a guide. The writeup can be in a markdown or pdf file. "
   ]
  },
  {
   "cell_type": "markdown",
   "metadata": {},
   "source": [
    "> **Note**: Once you have completed all of the code implementations and successfully answered each question above, you may finalize your work by exporting the iPython Notebook as an HTML document. You can do this by using the menu above and navigating to  \\n\",\n",
    "    \"**File -> Download as -> HTML (.html)**. Include the finished document along with this notebook as your submission."
   ]
  },
  {
   "cell_type": "markdown",
   "metadata": {},
   "source": [
    "---\n",
    "\n",
    "## Step 4 (Optional): Visualize the Neural Network's State with Test Images\n",
    "\n",
    " This Section is not required to complete but acts as an additional excersise for understaning the output of a neural network's weights. While neural networks can be a great learning device they are often referred to as a black box. We can understand what the weights of a neural network look like better by plotting their feature maps. After successfully training your neural network you can see what it's feature maps look like by plotting the output of the network's weight layers in response to a test stimuli image. From these plotted feature maps, it's possible to see what characteristics of an image the network finds interesting. For a sign, maybe the inner network feature maps react with high activation to the sign's boundary outline or to the contrast in the sign's painted symbol.\n",
    "\n",
    " Provided for you below is the function code that allows you to get the visualization output of any tensorflow weight layer you want. The inputs to the function should be a stimuli image, one used during training or a new one you provided, and then the tensorflow variable name that represents the layer's state during the training process, for instance if you wanted to see what the [LeNet lab's](https://classroom.udacity.com/nanodegrees/nd013/parts/fbf77062-5703-404e-b60c-95b78b2f3f9e/modules/6df7ae49-c61c-4bb2-a23e-6527e69209ec/lessons/601ae704-1035-4287-8b11-e2c2716217ad/concepts/d4aca031-508f-4e0b-b493-e7b706120f81) feature maps looked like for it's second convolutional layer you could enter conv2 as the tf_activation variable.\n",
    "\n",
    "For an example of what feature map outputs look like, check out NVIDIA's results in their paper [End-to-End Deep Learning for Self-Driving Cars](https://devblogs.nvidia.com/parallelforall/deep-learning-self-driving-cars/) in the section Visualization of internal CNN State. NVIDIA was able to show that their network's inner weights had high activations to road boundary lines by comparing feature maps from an image with a clear path to one without. Try experimenting with a similar test to show that your trained network's weights are looking for interesting features, whether it's looking at differences in feature maps from images with or without a sign, or even what feature maps look like in a trained network vs a completely untrained one on the same sign image.\n",
    "\n",
    "<figure>\n",
    " <img src=\"visualize_cnn.png\" width=\"380\" alt=\"Combined Image\" />\n",
    " <figcaption>\n",
    " <p></p> \n",
    " <p style=\"text-align: center;\"> Your output should look something like this (above)</p> \n",
    " </figcaption>\n",
    "</figure>\n",
    " <p></p> \n"
   ]
  },
  {
   "cell_type": "code",
   "execution_count": null,
   "metadata": {
    "collapsed": true
   },
   "outputs": [],
   "source": [
    "### Visualize your network's feature maps here.\n",
    "### Feel free to use as many code cells as needed.\n",
    "\n",
    "# image_input: the test image being fed into the network to produce the feature maps\n",
    "# tf_activation: should be a tf variable name used during your training procedure that represents the calculated state of a specific weight layer\n",
    "# activation_min/max: can be used to view the activation contrast in more detail, by default matplot sets min and max to the actual min and max values of the output\n",
    "# plt_num: used to plot out multiple different weight feature map sets on the same block, just extend the plt number for each new feature map entry\n",
    "\n",
    "def outputFeatureMap(image_input, tf_activation, activation_min=-1, activation_max=-1 ,plt_num=1):\n",
    "    # Here make sure to preprocess your image_input in a way your network expects\n",
    "    # with size, normalization, ect if needed\n",
    "    # image_input =\n",
    "    # Note: x should be the same name as your network's tensorflow data placeholder variable\n",
    "    # If you get an error tf_activation is not defined it may be having trouble accessing the variable from inside a function\n",
    "    activation = tf_activation.eval(session=sess,feed_dict={x : image_input})\n",
    "    featuremaps = activation.shape[3]\n",
    "    plt.figure(plt_num, figsize=(15,15))\n",
    "    for featuremap in range(featuremaps):\n",
    "        plt.subplot(6,8, featuremap+1) # sets the number of feature maps to show on each row and column\n",
    "        plt.title('FeatureMap ' + str(featuremap)) # displays the feature map number\n",
    "        if activation_min != -1 & activation_max != -1:\n",
    "            plt.imshow(activation[0,:,:, featuremap], interpolation=\"nearest\", vmin =activation_min, vmax=activation_max, cmap=\"gray\")\n",
    "        elif activation_max != -1:\n",
    "            plt.imshow(activation[0,:,:, featuremap], interpolation=\"nearest\", vmax=activation_max, cmap=\"gray\")\n",
    "        elif activation_min !=-1:\n",
    "            plt.imshow(activation[0,:,:, featuremap], interpolation=\"nearest\", vmin=activation_min, cmap=\"gray\")\n",
    "        else:\n",
    "            plt.imshow(activation[0,:,:, featuremap], interpolation=\"nearest\", cmap=\"gray\")"
   ]
  }
 ],
 "metadata": {
  "anaconda-cloud": {},
  "kernelspec": {
   "display_name": "Python 3",
   "language": "python",
   "name": "python3"
  },
  "language_info": {
   "codemirror_mode": {
    "name": "ipython",
    "version": 3
   },
   "file_extension": ".py",
   "mimetype": "text/x-python",
   "name": "python",
   "nbconvert_exporter": "python",
   "pygments_lexer": "ipython3",
   "version": "3.5.4"
  }
 },
 "nbformat": 4,
 "nbformat_minor": 1
}
